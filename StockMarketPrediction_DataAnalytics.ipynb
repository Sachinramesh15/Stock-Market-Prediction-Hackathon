{
  "metadata": {
    "kernelspec": {
      "language": "python",
      "display_name": "Python 3",
      "name": "python3"
    },
    "language_info": {
      "pygments_lexer": "ipython3",
      "nbconvert_exporter": "python",
      "version": "3.6.4",
      "file_extension": ".py",
      "codemirror_mode": {
        "name": "ipython",
        "version": 3
      },
      "name": "python",
      "mimetype": "text/x-python"
    },
    "colab": {
      "name": "PT_2_Golddiggers_449_456_458_473",
      "provenance": [],
      "toc_visible": true
    }
  },
  "nbformat_minor": 0,
  "nbformat": 4,
  "cells": [
    {
      "source": [
        "\n",
        "# IMPORTANT: RUN THIS CELL IN ORDER TO IMPORT YOUR KAGGLE DATA SOURCES\n",
        "# TO THE CORRECT LOCATION (/kaggle/input) IN YOUR NOTEBOOK,\n",
        "# THEN FEEL FREE TO DELETE THIS CELL.\n",
        "# NOTE: THIS NOTEBOOK ENVIRONMENT DIFFERS FROM KAGGLE'S PYTHON\n",
        "# ENVIRONMENT SO THERE MAY BE MISSING LIBRARIES USED BY YOUR\n",
        "# NOTEBOOK.\n",
        "\n",
        "import os\n",
        "import sys\n",
        "from tempfile import NamedTemporaryFile\n",
        "from urllib.request import urlopen\n",
        "from urllib.parse import unquote, urlparse\n",
        "from urllib.error import HTTPError\n",
        "from zipfile import ZipFile\n",
        "import tarfile\n",
        "import shutil\n",
        "\n",
        "CHUNK_SIZE = 40960\n",
        "DATA_SOURCE_MAPPING = 'ue21cs342aa2:https%3A%2F%2Fstorage.googleapis.com%2Fkaggle-competitions-data%2Fkaggle-v2%2F62334%2F6834706%2Fbundle%2Farchive.zip%3FX-Goog-Algorithm%3DGOOG4-RSA-SHA256%26X-Goog-Credential%3Dgcp-kaggle-com%2540kaggle-161607.iam.gserviceaccount.com%252F20240525%252Fauto%252Fstorage%252Fgoog4_request%26X-Goog-Date%3D20240525T105912Z%26X-Goog-Expires%3D259200%26X-Goog-SignedHeaders%3Dhost%26X-Goog-Signature%3D878cd5c7282670972e92595b8a5e51f51b8d4cdc3e624a2bb05af44d2d7a1e5f4e4c88857bbff1c0800e9aea6781c7d6021d08d0e5686212e6f4217a3e36e942f0dbc856f84c696fe2644211c943a03688e5881f679fe9612cf9d5a14fb8b110259e84eed9b692d27aca9bd49b538fe5cefe2f8058d8efae34a7c3ed150b7b1d2bca3de07a632e246d6e9c458dbc04acfad60ab8907cb94db3b44c6f6778d02f73a918f2b9fc0044144d6bb489f8a397889a08d287374b2a83e2fa49b71bc617f86c176e8c60944c4bf611cc37e9d5114467e50d4bb67b75105ac14ee73cb3d85b33d0f8eb83d038cdf9327c585b20d58d1b585f25cf28da33fdeb337b5a35d4'\n",
        "\n",
        "KAGGLE_INPUT_PATH='/kaggle/input'\n",
        "KAGGLE_WORKING_PATH='/kaggle/working'\n",
        "KAGGLE_SYMLINK='kaggle'\n",
        "\n",
        "!umount /kaggle/input/ 2> /dev/null\n",
        "shutil.rmtree('/kaggle/input', ignore_errors=True)\n",
        "os.makedirs(KAGGLE_INPUT_PATH, 0o777, exist_ok=True)\n",
        "os.makedirs(KAGGLE_WORKING_PATH, 0o777, exist_ok=True)\n",
        "\n",
        "try:\n",
        "  os.symlink(KAGGLE_INPUT_PATH, os.path.join(\"..\", 'input'), target_is_directory=True)\n",
        "except FileExistsError:\n",
        "  pass\n",
        "try:\n",
        "  os.symlink(KAGGLE_WORKING_PATH, os.path.join(\"..\", 'working'), target_is_directory=True)\n",
        "except FileExistsError:\n",
        "  pass\n",
        "\n",
        "for data_source_mapping in DATA_SOURCE_MAPPING.split(','):\n",
        "    directory, download_url_encoded = data_source_mapping.split(':')\n",
        "    download_url = unquote(download_url_encoded)\n",
        "    filename = urlparse(download_url).path\n",
        "    destination_path = os.path.join(KAGGLE_INPUT_PATH, directory)\n",
        "    try:\n",
        "        with urlopen(download_url) as fileres, NamedTemporaryFile() as tfile:\n",
        "            total_length = fileres.headers['content-length']\n",
        "            print(f'Downloading {directory}, {total_length} bytes compressed')\n",
        "            dl = 0\n",
        "            data = fileres.read(CHUNK_SIZE)\n",
        "            while len(data) > 0:\n",
        "                dl += len(data)\n",
        "                tfile.write(data)\n",
        "                done = int(50 * dl / int(total_length))\n",
        "                sys.stdout.write(f\"\\r[{'=' * done}{' ' * (50-done)}] {dl} bytes downloaded\")\n",
        "                sys.stdout.flush()\n",
        "                data = fileres.read(CHUNK_SIZE)\n",
        "            if filename.endswith('.zip'):\n",
        "              with ZipFile(tfile) as zfile:\n",
        "                zfile.extractall(destination_path)\n",
        "            else:\n",
        "              with tarfile.open(tfile.name) as tarfile:\n",
        "                tarfile.extractall(destination_path)\n",
        "            print(f'\\nDownloaded and uncompressed: {directory}')\n",
        "    except HTTPError as e:\n",
        "        print(f'Failed to load (likely expired) {download_url} to path {destination_path}')\n",
        "        continue\n",
        "    except OSError as e:\n",
        "        print(f'Failed to load {download_url} to path {destination_path}')\n",
        "        continue\n",
        "\n",
        "print('Data source import complete.')\n"
      ],
      "metadata": {
        "id": "WzNkPWNiZ6Zy"
      },
      "cell_type": "code",
      "outputs": [],
      "execution_count": null
    },
    {
      "cell_type": "code",
      "source": [
        "# This Python 3 environment comes with many helpful analytics libraries installed\n",
        "# It is defined by the kaggle/python Docker image: https://github.com/kaggle/docker-python\n",
        "# For example, here's several helpful packages to load\n",
        "\n",
        "import numpy as np # linear algebra\n",
        "import pandas as pd # data processing, CSV file I/O (e.g. pd.read_csv)\n",
        "\n",
        "# Input data files are available in the read-only \"../input/\" directory\n",
        "# For example, running this (by clicking run or pressing Shift+Enter) will list all files under the input directory\n",
        "\n",
        "import os\n",
        "for dirname, _, filenames in os.walk('/kaggle/input'):\n",
        "    for filename in filenames:\n",
        "        print(os.path.join(dirname, filename))\n",
        "\n",
        "# You can write up to 20GB to the current directory (/kaggle/working/) that gets preserved as output when you create a version using \"Save & Run All\"\n",
        "# You can also write temporary files to /kaggle/temp/, but they won't be saved outside of the current session"
      ],
      "metadata": {
        "_uuid": "8f2839f25d086af736a60e9eeb907d3b93b6e0e5",
        "_cell_guid": "b1076dfc-b9ad-4769-8c92-a6c4dae69d19",
        "execution": {
          "iopub.status.busy": "2023-11-01T17:58:07.535016Z",
          "iopub.execute_input": "2023-11-01T17:58:07.535475Z",
          "iopub.status.idle": "2023-11-01T17:58:08.113222Z",
          "shell.execute_reply.started": "2023-11-01T17:58:07.535437Z",
          "shell.execute_reply": "2023-11-01T17:58:08.111113Z"
        },
        "trusted": true,
        "id": "HukF7eDGZ6Z1"
      },
      "execution_count": null,
      "outputs": []
    },
    {
      "cell_type": "code",
      "source": [
        "import warnings\n",
        "warnings.filterwarnings(\"ignore\")\n",
        "import pandas as pd\n",
        "import numpy as np\n",
        "from sklearn.preprocessing import LabelEncoder\n",
        "from sklearn.model_selection import train_test_split\n",
        "import xgboost as xgb\n",
        "from statsmodels.tsa.arima.model import ARIMA\n",
        "\n",
        "# Load the training data\n",
        "train_data = pd.read_csv(\"/kaggle/input/ue21cs342aa2/train.csv\")\n",
        "\n",
        "# Convert 'Date' column to datetime\n",
        "train_data['Date'] = pd.to_datetime(train_data['Date'])\n",
        "\n",
        "# Set alpha (smoothing factor)\n",
        "alpha = 0.25\n",
        "\n",
        "# Initialize the forecast with the first observed close value\n",
        "forecast = train_data[\"Close\"].iloc[-1]\n",
        "# Load the test data\n",
        "test_data = pd.read_csv(\"/kaggle/input/ue21cs342aa2/test.csv\")\n",
        "test_data['Date'] = pd.to_datetime(test_data['Date'])\n",
        "predicted_closes = []\n",
        "\n",
        "# Iterate over test data to make ARIMA predictions\n",
        "for i in range(len(test_data)):\n",
        "    close_value = alpha * test_data[\"Open\"].iloc[i] + (1 - alpha) * forecast\n",
        "    forecast = close_value  # Update the forecast for the next period\n",
        "\n",
        "    # Make ARIMA predictions\n",
        "    arima_model = ARIMA(train_data[\"Close\"], order=(5, 1, 7))  # You can set the order according to your data\n",
        "    arima_results = arima_model.fit()\n",
        "\n",
        "    arima_forecast = arima_results.forecast(steps=1)\n",
        "    arima_close = arima_forecast.iat[0]  # Access the value correctly\n",
        "\n",
        "    # Use ARIMA prediction if it's not too far from the exponential smoothing prediction\n",
        "    if np.abs(arima_close - close_value) < 1.0:\n",
        "        predicted_close = arima_close\n",
        "\n",
        "\n",
        "    else:\n",
        "        predicted_close = close_value\n",
        "\n",
        "    # Append the predicted close to the list\n",
        "    predicted_closes.append(predicted_close)\n",
        "\n",
        "# Add the predicted close values to the test data\n",
        "test_data[\"Close\"] = predicted_closes\n",
        "i = 0\n",
        "while i < len(predicted_closes):\n",
        "    print(predicted_closes[i])\n",
        "    i += 1"
      ],
      "metadata": {
        "execution": {
          "iopub.status.busy": "2023-11-01T17:58:08.114925Z",
          "iopub.execute_input": "2023-11-01T17:58:08.116294Z",
          "iopub.status.idle": "2023-11-01T18:00:01.43969Z",
          "shell.execute_reply.started": "2023-11-01T17:58:08.116257Z",
          "shell.execute_reply": "2023-11-01T18:00:01.438261Z"
        },
        "trusted": true,
        "id": "_Q2oI4GtZ6Z1"
      },
      "execution_count": null,
      "outputs": []
    },
    {
      "cell_type": "code",
      "source": [
        "train_data.tail(10)"
      ],
      "metadata": {
        "execution": {
          "iopub.status.busy": "2023-11-01T18:00:01.445438Z",
          "iopub.execute_input": "2023-11-01T18:00:01.448089Z",
          "iopub.status.idle": "2023-11-01T18:00:01.472991Z",
          "shell.execute_reply.started": "2023-11-01T18:00:01.448039Z",
          "shell.execute_reply": "2023-11-01T18:00:01.472182Z"
        },
        "trusted": true,
        "id": "2GT5br6EZ6Z2"
      },
      "execution_count": null,
      "outputs": []
    },
    {
      "cell_type": "code",
      "source": [
        "test_data.head(10)"
      ],
      "metadata": {
        "execution": {
          "iopub.status.busy": "2023-11-01T18:00:01.475065Z",
          "iopub.execute_input": "2023-11-01T18:00:01.475705Z",
          "iopub.status.idle": "2023-11-01T18:00:01.489049Z",
          "shell.execute_reply.started": "2023-11-01T18:00:01.475667Z",
          "shell.execute_reply": "2023-11-01T18:00:01.488175Z"
        },
        "trusted": true,
        "id": "BvdVuls5Z6Z2"
      },
      "execution_count": null,
      "outputs": []
    },
    {
      "cell_type": "code",
      "source": [
        "train_data['p_change'] = 0\n",
        "test_data['p_change'] = 0\n",
        "train_data['close-1'] = 0\n",
        "test_data['close-1'] = 0\n",
        "train_data['close-1%'] = 0\n",
        "test_data['close-1%'] = 0\n",
        "train_data['volume-1'] = 0\n",
        "test_data['volume-1'] = 0\n",
        "train_data['volume-1%'] = 0\n",
        "test_data['volume-1%'] = 0\n",
        "train_data['logv'] = 0\n",
        "test_data['logv'] = 0"
      ],
      "metadata": {
        "execution": {
          "iopub.status.busy": "2023-11-01T18:00:01.490987Z",
          "iopub.execute_input": "2023-11-01T18:00:01.491694Z",
          "iopub.status.idle": "2023-11-01T18:00:01.504803Z",
          "shell.execute_reply.started": "2023-11-01T18:00:01.491656Z",
          "shell.execute_reply": "2023-11-01T18:00:01.503727Z"
        },
        "trusted": true,
        "id": "AKia60iVZ6Z2"
      },
      "execution_count": null,
      "outputs": []
    },
    {
      "cell_type": "code",
      "source": [
        "print(train_data.columns)\n",
        "print(test_data.columns)\n"
      ],
      "metadata": {
        "execution": {
          "iopub.status.busy": "2023-11-01T18:00:01.506706Z",
          "iopub.execute_input": "2023-11-01T18:00:01.507458Z",
          "iopub.status.idle": "2023-11-01T18:00:01.520085Z",
          "shell.execute_reply.started": "2023-11-01T18:00:01.507424Z",
          "shell.execute_reply": "2023-11-01T18:00:01.519034Z"
        },
        "trusted": true,
        "id": "QLA_ZNLZZ6Z2"
      },
      "execution_count": null,
      "outputs": []
    },
    {
      "cell_type": "code",
      "source": [
        "import warnings\n",
        "import math\n",
        "warnings.filterwarnings(\"ignore\")\n",
        "\n",
        "\n",
        "new_features = ['p_change', 'close-1', 'close-1%', 'volume-1', 'volume-1%','logv']\n",
        "for i in new_features:\n",
        "    test_data[i] = 0\n",
        "    test_data[i] = train_data[i].astype('float')\n",
        "if 'p_change' not in train_data.columns:\n",
        "    train_data['p_change'] = 0\n",
        "\n",
        "for k in range(1, len(test_data)):\n",
        "        test_data['p_change'][k] = test_data['Close'][k] - test_data['Open'][k]\n",
        "        test_data['close-1'][k] = test_data['Close'][k] - test_data['Close'][k-1]\n",
        "        test_data['close-1%'][k] = ((test_data['Close'][k] / test_data['Close'][k-1]) * 100) - 100\n",
        "        if test_data['Volume'][k] != 0 and test_data['Volume'][k-1] != 0:\n",
        "            test_data['volume-1'][k] = test_data['Volume'][k] - test_data['Volume'][k-1]\n",
        "            test_data['volume-1%'][k] = ((test_data['Volume'][k] / test_data['Volume'][k-1]) * 100) - 100\n",
        "for k in range(0, len(test_data)):\n",
        "        test_data['p_change'][k] = test_data['Close'][k] - test_data['Open'][k]\n",
        "test_data['Date'] = pd.to_datetime(train_data['Date'])\n",
        "test_data['year'] = test_data['Date'].dt.year\n",
        "test_data['month'] = test_data['Date'].dt.month\n",
        "\n",
        "for k in range(1, len(test_data)):\n",
        "    test_data['logv'][k]=math.log(test_data['Volume'][k])\n",
        "    train_data['logv'][k]=math.log(test_data['Volume'][k])\n",
        "\n",
        "\n",
        "# for i in new_features:\n",
        "#     train_data[i] = 0\n",
        "#     train_data[i] = train_data[i].astype('float')\n",
        "\n",
        "for k in range(1, len(train_data)):\n",
        "        train_data['p_change'][k] = train_data['Close'][k] - train_data['Open'][k]\n",
        "        train_data['close-1'][k] = train_data['Close'][k] - train_data['Close'][k-1]\n",
        "        train_data['close-1%'][k] = ((train_data['Close'][k] / train_data['Close'][k-1]) * 100) - 100\n",
        "        if train_data['Volume'][k] != 0 and train_data['Volume'][k-1] != 0:\n",
        "            train_data['volume-1'][k] = train_data['Volume'][k] - train_data['Volume'][k-1]\n",
        "            train_data['volume-1%'][k] = ((train_data['Volume'][k] / train_data['Volume'][k-1]) * 100) - 100\n",
        "for k in range(0, len(train_data)):\n",
        "        train_data['p_change'][k] = train_data['Close'][k] - train_data['Open'][k]\n",
        "train_data['Date'] = pd.to_datetime(train_data['Date'])\n",
        "train_data['year'] = train_data['Date'].dt.year\n",
        "train_data['month'] = train_data['Date'].dt.month\n",
        "\n",
        "\n"
      ],
      "metadata": {
        "execution": {
          "iopub.status.busy": "2023-11-01T18:00:01.521961Z",
          "iopub.execute_input": "2023-11-01T18:00:01.522812Z",
          "iopub.status.idle": "2023-11-01T18:00:01.909802Z",
          "shell.execute_reply.started": "2023-11-01T18:00:01.522774Z",
          "shell.execute_reply": "2023-11-01T18:00:01.907926Z"
        },
        "trusted": true,
        "id": "ckIbiBsVZ6Z3"
      },
      "execution_count": null,
      "outputs": []
    },
    {
      "cell_type": "code",
      "source": [
        "import pandas as pd\n",
        "import numpy as np\n",
        "import warnings\n",
        "from statsmodels.tsa.seasonal import seasonal_decompose\n",
        "\n",
        "warnings.filterwarnings(\"ignore\")\n",
        "\n",
        "# Define the lag order for lagged values and rolling window for rolling means\n",
        "lag_order = 3\n",
        "rolling_window = 7  # Choose an appropriate window size\n",
        "\n",
        "# Lagged values\n",
        "for lag in range(1, lag_order + 1):\n",
        "    train_data[f'lag_{lag}'] = train_data['Close'].shift(lag)\n",
        "    test_data[f'lag_{lag}'] = test_data['Close'].shift(lag)\n",
        "\n",
        "# Rolling means\n",
        "train_data['rolling_mean'] = train_data['Close'].rolling(window=rolling_window).mean()\n",
        "test_data['rolling_mean'] = test_data['Close'].rolling(window=rolling_window).mean()\n",
        "\n",
        "# Calculate differenced values\n",
        "train_data['close_diff'] = train_data['Close'].diff()\n",
        "test_data['close_diff'] = test_data['Close'].diff()\n",
        "\n",
        "# Calculate moving averages\n",
        "train_data['50_day_MA'] = train_data['Close'].rolling(window=50).mean()\n",
        "test_data['50_day_MA'] = test_data['Close'].rolling(window=50).mean()\n",
        "\n",
        "# Decompose data into trend, seasonality, and residuals\n",
        "result = seasonal_decompose(train_data['Close'], model='multiplicative',period=12)  # Period depends on your data\n",
        "train_data['trend'] = result.trend\n",
        "train_data['seasonality'] = result.seasonal\n",
        "train_data['residuals'] = result.resid\n",
        "\n",
        "result = seasonal_decompose(test_data['Close'], model='multiplicative',period=12)  # Period depends on your data\n",
        "test_data['trend'] = result.trend\n",
        "test_data['seasonality'] = result.seasonal\n",
        "test_data['residuals'] = result.resid\n",
        "\n",
        "# Calculate residuals from other models if available\n",
        "# For example, if you have a SARIMA model, calculate residuals as follows:\n",
        "# model = sm.tsa.statespace.SARIMAX(endog=train_data['Close'], order=(2, 1, 3))\n",
        "# model_fit = model.fit()\n",
        "# train_data['sarima_residuals'] = model_fit.resid\n",
        "# model = sm.tsa.statespace.SARIMAX(endog=test_data['Close'], order=(2, 1, 3))\n",
        "# model_fit = model.fit()\n",
        "# test_data['sarima_residuals'] = model_fit.resid\n",
        "\n",
        "# Handling missing values (e.g., forward-fill or backward-fill)\n",
        "train_data.fillna(method='bfill', inplace=True)\n",
        "test_data.fillna(method='bfill', inplace=True)\n",
        "\n",
        "# Error handling for unexpected errors\n",
        "try:\n",
        "    # Your code that may raise exceptions\n",
        "    pass\n",
        "except Exception as e:\n",
        "    # Handle the exception gracefully\n",
        "    print(f\"An error occurred: {str(e)}\")\n",
        "\n",
        "# Continue with the rest of your data preprocessing steps\n",
        "\n",
        "# Print or display the first few rows of the updated datasets to check the new features\n",
        "print(train_data.head())\n",
        "print(test_data.head())\n"
      ],
      "metadata": {
        "execution": {
          "iopub.status.busy": "2023-11-01T18:00:01.912281Z",
          "iopub.execute_input": "2023-11-01T18:00:01.912838Z",
          "iopub.status.idle": "2023-11-01T18:00:01.997725Z",
          "shell.execute_reply.started": "2023-11-01T18:00:01.912789Z",
          "shell.execute_reply": "2023-11-01T18:00:01.996726Z"
        },
        "trusted": true,
        "id": "EWc7hLqNZ6Z3"
      },
      "execution_count": null,
      "outputs": []
    },
    {
      "cell_type": "code",
      "source": [
        "# import pandas as pd\n",
        "# import numpy as np\n",
        "# import warnings\n",
        "# from statsmodels.tsa.seasonal import seasonal_decompose\n",
        "\n",
        "# warnings.filterwarnings(\"ignore\")\n",
        "\n",
        "# # Load your dataset, assuming it's already loaded into 'test_data'\n",
        "\n",
        "# # Define the lag order for lagged values and rolling window for rolling means\n",
        "# lag_order = 3\n",
        "# rolling_window = 7  # Choose an appropriate window size\n",
        "\n",
        "# # Lagged values\n",
        "# for lag in range(1, lag_order + 1):\n",
        "#     test_data[f'lag_{lag}'] = test_data['Close'].shift(lag)\n",
        "\n",
        "# # Rolling means\n",
        "# test_data['rolling_mean'] = test_data['Close'].rolling(window=rolling_window).mean()\n",
        "\n",
        "# # Calculate differenced values\n",
        "# test_data['close_diff'] = test_data['Close'].diff()\n",
        "\n",
        "# # Calculate moving averages\n",
        "# test_data['50_day_MA'] = test_data['Close'].rolling(window=50).mean()\n",
        "# test_data['200_day_MA'] = test_data['Close'].rolling(window=200).mean()\n",
        "\n",
        "# # Decompose data into trend, seasonality, and residuals\n",
        "# result = seasonal_decompose(test_data['Close'], model='additive', period=52)  # Period depends on your data\n",
        "# test_data['trend'] = result.trend\n",
        "# test_data['seasonality'] = result.seasonal\n",
        "# test_data['residuals'] = result.resid\n",
        "\n",
        "# # Calculate residuals from other models if available\n",
        "# # For example, if you have a SARIMA model, calculate residuals as follows:\n",
        "# # model = sm.tsa.statespace.SARIMAX(endog=test_data['Close'], order=(2, 1, 3))\n",
        "# # model_fit = model.fit()\n",
        "# # test_data['sarima_residuals'] = model_fit.resid\n",
        "\n",
        "# # Handling missing values (e.g., forward-fill or backward-fill)\n",
        "# test_data.fillna(method='bfill', inplace=True)\n",
        "\n",
        "# # Error handling for unexpected errors\n",
        "# try:\n",
        "#     # Your code that may raise exceptions\n",
        "#     pass\n",
        "# except Exception as e:\n",
        "#     # Handle the exception gracefully\n",
        "#     print(f\"An error occurred: {str(e)}\")\n",
        "\n",
        "# # Continue with the rest of your data preprocessing steps\n",
        "\n",
        "# # Print or display the first few rows of the updated dataset to check the new features\n",
        "# print(test_data.head())\n"
      ],
      "metadata": {
        "execution": {
          "iopub.status.busy": "2023-11-01T18:00:01.998888Z",
          "iopub.execute_input": "2023-11-01T18:00:01.99913Z",
          "iopub.status.idle": "2023-11-01T18:00:02.004131Z",
          "shell.execute_reply.started": "2023-11-01T18:00:01.999109Z",
          "shell.execute_reply": "2023-11-01T18:00:02.003269Z"
        },
        "trusted": true,
        "id": "aP-lFOqiZ6Z4"
      },
      "execution_count": null,
      "outputs": []
    },
    {
      "cell_type": "code",
      "source": [
        "train_data.head(10)"
      ],
      "metadata": {
        "execution": {
          "iopub.status.busy": "2023-11-01T18:00:02.007908Z",
          "iopub.execute_input": "2023-11-01T18:00:02.00813Z",
          "iopub.status.idle": "2023-11-01T18:00:02.03983Z",
          "shell.execute_reply.started": "2023-11-01T18:00:02.00811Z",
          "shell.execute_reply": "2023-11-01T18:00:02.038947Z"
        },
        "trusted": true,
        "id": "tYAm6H6bZ6Z4"
      },
      "execution_count": null,
      "outputs": []
    },
    {
      "cell_type": "code",
      "source": [
        "test_data.tail(10)"
      ],
      "metadata": {
        "execution": {
          "iopub.status.busy": "2023-11-01T18:00:02.040757Z",
          "iopub.execute_input": "2023-11-01T18:00:02.040988Z",
          "iopub.status.idle": "2023-11-01T18:00:02.062557Z",
          "shell.execute_reply.started": "2023-11-01T18:00:02.040968Z",
          "shell.execute_reply": "2023-11-01T18:00:02.061905Z"
        },
        "trusted": true,
        "id": "X38yz1sfZ6Z4"
      },
      "execution_count": null,
      "outputs": []
    },
    {
      "cell_type": "code",
      "source": [
        "train_data.columns"
      ],
      "metadata": {
        "execution": {
          "iopub.status.busy": "2023-11-01T18:00:02.063588Z",
          "iopub.execute_input": "2023-11-01T18:00:02.063988Z",
          "iopub.status.idle": "2023-11-01T18:00:02.070534Z",
          "shell.execute_reply.started": "2023-11-01T18:00:02.063963Z",
          "shell.execute_reply": "2023-11-01T18:00:02.069308Z"
        },
        "trusted": true,
        "id": "ROO6VX-MZ6Z4"
      },
      "execution_count": null,
      "outputs": []
    },
    {
      "cell_type": "code",
      "source": [
        "test_data.isnull().sum()"
      ],
      "metadata": {
        "execution": {
          "iopub.status.busy": "2023-11-01T18:00:02.071754Z",
          "iopub.execute_input": "2023-11-01T18:00:02.072133Z",
          "iopub.status.idle": "2023-11-01T18:00:02.08564Z",
          "shell.execute_reply.started": "2023-11-01T18:00:02.072108Z",
          "shell.execute_reply": "2023-11-01T18:00:02.084804Z"
        },
        "trusted": true,
        "id": "b3ZFZhHQZ6Z5"
      },
      "execution_count": null,
      "outputs": []
    },
    {
      "cell_type": "code",
      "source": [
        "train_data['trend'].interpolate(method='linear', inplace=True)\n",
        "train_data['residuals'].interpolate(method='linear', inplace=True)\n"
      ],
      "metadata": {
        "execution": {
          "iopub.status.busy": "2023-11-01T18:00:02.086666Z",
          "iopub.execute_input": "2023-11-01T18:00:02.086999Z",
          "iopub.status.idle": "2023-11-01T18:00:02.101133Z",
          "shell.execute_reply.started": "2023-11-01T18:00:02.086973Z",
          "shell.execute_reply": "2023-11-01T18:00:02.100379Z"
        },
        "trusted": true,
        "id": "S-zUeH_qZ6Z5"
      },
      "execution_count": null,
      "outputs": []
    },
    {
      "cell_type": "code",
      "source": [
        "import xgboost as xgb\n",
        "from sklearn.ensemble import RandomForestClassifier\n",
        "from sklearn.neighbors import KNeighborsClassifier\n",
        "threshold_buy = 0.0\n",
        "threshold_sell = 0.0\n",
        "test_data[\"Strategy\"] = np.where(test_data[\"Close\"] > threshold_buy, \"Buy\",np.where(test_data[\"Close\"] < threshold_sell, \"Sell\", \"Hold\"))\n",
        "\n",
        "\n",
        "label_encoder = LabelEncoder()\n",
        "train_data[\"Strategy_Label\"] = label_encoder.fit_transform(train_data[\"Strategy\"])\n",
        "# Features for XGBoost Classifier\n",
        "X = train_data[['Open','seasonality','residuals','month']]\n",
        "y = train_data[\"Strategy_Label\"]\n",
        "\n",
        "# Split the training data into training and validation sets\n",
        "X_train, X_val, y_train, y_val = train_test_split(X, y, test_size=0.2, random_state=42)\n",
        "\n",
        "# Create and train the XGBoost model\n",
        "model = xgb.XGBClassifier(n_estimators=100, random_state=42)\n",
        "model.fit(X_train, y_train)\n",
        "\n",
        "# Make predictions on the validation set\n",
        "predicted_strategy = model.predict(X_val)\n",
        "#print(predicted_strategy)\n",
        "from sklearn.metrics import accuracy_score\n",
        "\n",
        "accuracy = accuracy_score(y_val, predicted_strategy)\n",
        "print(\"Model accuracy is:\", accuracy)"
      ],
      "metadata": {
        "execution": {
          "iopub.status.busy": "2023-11-01T18:00:02.101987Z",
          "iopub.execute_input": "2023-11-01T18:00:02.102562Z",
          "iopub.status.idle": "2023-11-01T18:00:02.581904Z",
          "shell.execute_reply.started": "2023-11-01T18:00:02.102533Z",
          "shell.execute_reply": "2023-11-01T18:00:02.581161Z"
        },
        "trusted": true,
        "id": "dk6AbiO8Z6Z5"
      },
      "execution_count": null,
      "outputs": []
    },
    {
      "cell_type": "code",
      "source": [
        "# Predict the strategy for the test data using the XGBoost model\n",
        "test_features = test_data[['Open','seasonality','residuals','month']]\n",
        "predicted_strategy = model.predict(test_features)\n",
        "\n",
        "\n",
        "predicted_strategy = label_encoder.inverse_transform(predicted_strategy)\n",
        "\n",
        "# Add the predicted strategy to the test data\n",
        "test_data[\"Strategy\"] = predicted_strategy\n",
        "\n",
        "# Save the DataFrame to a CSV file named \"submission.csv\"\n",
        "submission_df = test_data[['id', \"Date\", \"Close\", \"Strategy\"]]\n",
        "submission_df.to_csv(\"submission.csv\", index=False)"
      ],
      "metadata": {
        "execution": {
          "iopub.status.busy": "2023-11-01T18:00:13.030463Z",
          "iopub.execute_input": "2023-11-01T18:00:13.030882Z",
          "iopub.status.idle": "2023-11-01T18:00:13.047227Z",
          "shell.execute_reply.started": "2023-11-01T18:00:13.030836Z",
          "shell.execute_reply": "2023-11-01T18:00:13.046527Z"
        },
        "trusted": true,
        "id": "Lq2VZ8FbZ6Z5"
      },
      "execution_count": null,
      "outputs": []
    }
  ]
}